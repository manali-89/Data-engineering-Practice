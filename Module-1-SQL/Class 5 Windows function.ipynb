{
 "cells": [
  {
   "cell_type": "code",
   "execution_count": 0,
   "metadata": {
    "application/vnd.databricks.v1+cell": {
     "cellMetadata": {
      "byteLimit": 2048000,
      "rowLimit": 10000
     },
     "inputWidgets": {},
     "nuid": "4de86f21-5646-42ec-8244-50c7403755da",
     "showTitle": false,
     "tableResultSettingsMap": {},
     "title": ""
    }
   },
   "outputs": [],
   "source": [
    "SELECT * FROM orders;"
   ]
  },
  {
   "cell_type": "code",
   "execution_count": 0,
   "metadata": {
    "application/vnd.databricks.v1+cell": {
     "cellMetadata": {
      "byteLimit": 2048000,
      "rowLimit": 10000
     },
     "inputWidgets": {},
     "nuid": "1c778d63-9019-44ec-8893-debc51475dba",
     "showTitle": false,
     "tableResultSettingsMap": {},
     "title": ""
    }
   },
   "outputs": [],
   "source": [
    "-- gives each row a unique number based on the order_date\n",
    "\n",
    "SELECT order_id, order_date,\n",
    "ROW_NUMBER() OVER(ORDER BY order_date) AS row_no\n",
    "FROM orders "
   ]
  },
  {
   "cell_type": "code",
   "execution_count": 0,
   "metadata": {
    "application/vnd.databricks.v1+cell": {
     "cellMetadata": {
      "byteLimit": 2048000,
      "rowLimit": 10000
     },
     "inputWidgets": {},
     "nuid": "a7977297-15dc-45cc-98a6-fe780e475ecc",
     "showTitle": false,
     "tableResultSettingsMap": {},
     "title": ""
    }
   },
   "outputs": [],
   "source": [
    "-- real life use case: show first product bought by each customer\n",
    "SELECT\n",
    "c.first_name, od.product_name, od.order_id,\n",
    "ROW_NUMBER() OVER(PARTITION BY c.customer_id ORDER BY o.order_date) AS purchase_sequence\n",
    " FROM customers c \n",
    " JOIN orders o ON c.customer_id=o.customer_id\n",
    " JOIN order_details od ON o.order_id=od.order_id\n",
    "-- the first order is ythat where purchase seequence is equal to one"
   ]
  },
  {
   "cell_type": "code",
   "execution_count": 0,
   "metadata": {
    "application/vnd.databricks.v1+cell": {
     "cellMetadata": {
      "byteLimit": 2048000,
      "rowLimit": 10000
     },
     "inputWidgets": {},
     "nuid": "c45d6f1c-2192-4230-9388-76e2fbdee4f2",
     "showTitle": false,
     "tableResultSettingsMap": {},
     "title": ""
    }
   },
   "outputs": [],
   "source": [
    "-- ROW_NUMBER()\n",
    "SELECT product_name, quantity, ROW_NUMBER() OVER(ORDER BY quantity DESC) AS rank FROM order_details"
   ]
  },
  {
   "cell_type": "code",
   "execution_count": 0,
   "metadata": {
    "application/vnd.databricks.v1+cell": {
     "cellMetadata": {
      "byteLimit": 2048000,
      "rowLimit": 10000
     },
     "inputWidgets": {},
     "nuid": "2d1aa367-1a99-486a-86fd-dddb404bd6bd",
     "showTitle": false,
     "tableResultSettingsMap": {},
     "title": ""
    }
   },
   "outputs": [],
   "source": [
    " -- RANK()\n",
    " -- ranks rows by quantity; ties got same rank, but gaps are left the sequence\n",
    "SELECT product_name, quantity, RANK() OVER(ORDER BY quantity DESC) AS rank FROM order_details"
   ]
  },
  {
   "cell_type": "code",
   "execution_count": 0,
   "metadata": {
    "application/vnd.databricks.v1+cell": {
     "cellMetadata": {
      "byteLimit": 2048000,
      "rowLimit": 10000
     },
     "inputWidgets": {},
     "nuid": "7b4257d5-628b-4a2a-bf61-4a734cb88317",
     "showTitle": false,
     "tableResultSettingsMap": {},
     "title": ""
    }
   },
   "outputs": [],
   "source": [
    "-- real-life use case: assign bonus based on best-selling products in each order\n",
    " SELECT order_id,\n",
    " product_name, \n",
    " quantity,\n",
    " RANK() OVER(PARTITION BY order_id ORDER BY quantity DESC) AS rank\n",
    "  FROM order_details ;"
   ]
  },
  {
   "cell_type": "code",
   "execution_count": 0,
   "metadata": {
    "application/vnd.databricks.v1+cell": {
     "cellMetadata": {
      "byteLimit": 2048000,
      "rowLimit": 10000
     },
     "inputWidgets": {},
     "nuid": "82e067cf-fa96-4103-bc9d-2beb88957776",
     "showTitle": false,
     "tableResultSettingsMap": {},
     "title": ""
    }
   },
   "outputs": [],
   "source": [
    "-- dense rank -- rank without the gaps\n",
    "SELECT \n",
    "  product_name, \n",
    "  quantity, \n",
    "  DENSE_RANK() OVER(ORDER BY quantity DESC) AS dense_rank,\n",
    "  RANK() OVER(ORDER BY quantity DESC) AS rank\n",
    "  FROM order_details"
   ]
  },
  {
   "cell_type": "code",
   "execution_count": 0,
   "metadata": {
    "application/vnd.databricks.v1+cell": {
     "cellMetadata": {
      "byteLimit": 2048000,
      "rowLimit": 10000
     },
     "inputWidgets": {},
     "nuid": "dc7cd291-0086-498a-858e-824a8290d397",
     "showTitle": false,
     "tableResultSettingsMap": {},
     "title": ""
    }
   },
   "outputs": [],
   "source": [
    "-- real life use case: label product popoularity tiers in clean rank buckets\n",
    "SELECT \n",
    "product_name,\n",
    "SUM(quantity) AS TOTAL_QUANTITY,\n",
    "DENSE_RANK() OVER(ORDER BY SUM(quantity) DESC) AS POPULARITY_RANK\n",
    " FROM order_details\n",
    " GROUP BY 1;"
   ]
  },
  {
   "cell_type": "code",
   "execution_count": 0,
   "metadata": {
    "application/vnd.databricks.v1+cell": {
     "cellMetadata": {
      "byteLimit": 2048000,
      "rowLimit": 10000
     },
     "inputWidgets": {},
     "nuid": "d0df52e5-afc3-40ee-969d-64e7d74bf9c8",
     "showTitle": false,
     "tableResultSettingsMap": {},
     "title": ""
    }
   },
   "outputs": [],
   "source": [
    "-- LAG() - compare with previous rows\n",
    "SELECT\n",
    "order_id,\n",
    "order_date,\n",
    "LAG(order_date, 1) OVER(ORDER BY order_date) AS prev_order_date\n",
    " FROM orders"
   ]
  },
  {
   "cell_type": "code",
   "execution_count": 0,
   "metadata": {
    "application/vnd.databricks.v1+cell": {
     "cellMetadata": {
      "byteLimit": 2048000,
      "rowLimit": 10000
     },
     "inputWidgets": {},
     "nuid": "f6fbbcea-4b65-4229-8274-2225f1133a83",
     "showTitle": false,
     "tableResultSettingsMap": {},
     "title": ""
    }
   },
   "outputs": [],
   "source": [
    "-- real life usecase: analyze customers order trends\n",
    "SELECT\n",
    "  c.first_name,\n",
    "  o.order_id,\n",
    "  od.quantity,\n",
    "  LAG(od.quantity) OVER(PARTITION BY c.customer_id ORDER BY o.order_date) AS prev_quantity\n",
    "FROM customers c\n",
    "JOIN orders o ON c.customer_id=o.customer_id\n",
    "JOIN order_details od ON o.order_id=od.order_id"
   ]
  },
  {
   "cell_type": "code",
   "execution_count": 0,
   "metadata": {
    "application/vnd.databricks.v1+cell": {
     "cellMetadata": {
      "byteLimit": 2048000,
      "rowLimit": 10000
     },
     "inputWidgets": {},
     "nuid": "b129827b-44ef-4fd9-b7e5-5276959bc1f7",
     "showTitle": false,
     "tableResultSettingsMap": {},
     "title": ""
    }
   },
   "outputs": [],
   "source": [
    "-- LEAD() - compare with next rows\n",
    "SELECT\n",
    "order_id,\n",
    "order_date,\n",
    "LEAD(order_date, 1) OVER(ORDER BY order_date) AS next_order_date\n",
    " FROM orders"
   ]
  },
  {
   "cell_type": "code",
   "execution_count": 0,
   "metadata": {
    "application/vnd.databricks.v1+cell": {
     "cellMetadata": {
      "byteLimit": 2048000,
      "rowLimit": 10000
     },
     "inputWidgets": {},
     "nuid": "e664dbc0-74a6-420a-964f-92f37f819a69",
     "showTitle": false,
     "tableResultSettingsMap": {},
     "title": ""
    }
   },
   "outputs": [],
   "source": [
    "-- real life usecase: product what customer might buy next\n",
    "SELECT\n",
    "  c.first_name,\n",
    "  od.product_name,\n",
    "  LEAD(od.product_name) OVER(PARTITION BY c.customer_id ORDER BY o.order_date) AS possible_next_product\n",
    "FROM customers c\n",
    "JOIN orders o ON c.customer_id=o.customer_id\n",
    "JOIN order_details od ON o.order_id=od.order_id"
   ]
  },
  {
   "cell_type": "code",
   "execution_count": 0,
   "metadata": {
    "application/vnd.databricks.v1+cell": {
     "cellMetadata": {
      "byteLimit": 2048000,
      "rowLimit": 10000
     },
     "inputWidgets": {},
     "nuid": "f9dd2a1d-4fe7-4beb-b1d2-3afecf458efe",
     "showTitle": false,
     "tableResultSettingsMap": {},
     "title": ""
    }
   },
   "outputs": [],
   "source": [
    "-- sum() -- running total or cumulative sum\n",
    "SELECT order_id, product_name, quantity,\n",
    " SUM(quantity) OVER(ORDER BY order_id) AS running_total\n",
    " FROM order_details"
   ]
  },
  {
   "cell_type": "code",
   "execution_count": 0,
   "metadata": {
    "application/vnd.databricks.v1+cell": {
     "cellMetadata": {},
     "inputWidgets": {},
     "nuid": "b96c8b83-3bcd-4902-b2f5-4c85d97a3ed3",
     "showTitle": false,
     "tableResultSettingsMap": {},
     "title": ""
    }
   },
   "outputs": [],
   "source": []
  }
 ],
 "metadata": {
  "application/vnd.databricks.v1+notebook": {
   "computePreferences": null,
   "dashboards": [],
   "environmentMetadata": {
    "base_environment": "",
    "environment_version": "2"
   },
   "inputWidgetPreferences": null,
   "language": "sql",
   "notebookMetadata": {
    "pythonIndentUnit": 4
   },
   "notebookName": "Class 5 Windows function",
   "widgets": {}
  },
  "language_info": {
   "name": "sql"
  }
 },
 "nbformat": 4,
 "nbformat_minor": 0
}

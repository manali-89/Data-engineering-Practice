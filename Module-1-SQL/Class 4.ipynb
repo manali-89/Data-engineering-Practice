{
 "cells": [
  {
   "cell_type": "code",
   "execution_count": 0,
   "metadata": {
    "application/vnd.databricks.v1+cell": {
     "cellMetadata": {
      "byteLimit": 2048000,
      "rowLimit": 10000
     },
     "inputWidgets": {},
     "nuid": "02ac6e4c-552d-45dd-93b4-71d06f878447",
     "showTitle": false,
     "tableResultSettingsMap": {},
     "title": ""
    }
   },
   "outputs": [],
   "source": [
    "-- Find customers who placed orders above the average order amount\n",
    "SELECT \n",
    "  DISTINCT c.first_name, c.last_name, o.total_amount\n",
    "  FROM customers c join orders o ON c.customer_id = o.customer_id\n",
    "WHERE o.total_amount > (SELECT AVG(o.total_amount) from orders o)"
   ]
  },
  {
   "cell_type": "code",
   "execution_count": 0,
   "metadata": {
    "application/vnd.databricks.v1+cell": {
     "cellMetadata": {
      "byteLimit": 2048000,
      "rowLimit": 10000
     },
     "inputWidgets": {},
     "nuid": "8d510383-3a85-4f8b-82a9-c8dcdb5b1505",
     "showTitle": false,
     "tableResultSettingsMap": {},
     "title": ""
    }
   },
   "outputs": [],
   "source": [
    "-- list all products that has been sold more than 5 times in total.\n",
    "select distinct product_name, sum(quantity) from order_details\n",
    "WHERE quantity > 2 group by product_name;"
   ]
  },
  {
   "cell_type": "code",
   "execution_count": 0,
   "metadata": {
    "application/vnd.databricks.v1+cell": {
     "cellMetadata": {
      "byteLimit": 2048000,
      "rowLimit": 10000
     },
     "inputWidgets": {},
     "nuid": "07643ebc-3bdf-4f6e-9228-4854058868ac",
     "showTitle": false,
     "tableResultSettingsMap": {},
     "title": ""
    }
   },
   "outputs": [],
   "source": [
    "SELECT \n",
    "od.product_name, sum(od.quantity) as total_sold\n",
    "FROM order_details od\n",
    "GROUP BY od.product_name HAVING total_sold > (SELECT 2)"
   ]
  },
  {
   "cell_type": "code",
   "execution_count": 0,
   "metadata": {
    "application/vnd.databricks.v1+cell": {
     "cellMetadata": {
      "byteLimit": 2048000,
      "rowLimit": 10000
     },
     "inputWidgets": {},
     "nuid": "cd761c2a-15b0-4308-9263-9dd7fe28da50",
     "showTitle": false,
     "tableResultSettingsMap": {},
     "title": ""
    }
   },
   "outputs": [],
   "source": [
    "-- list the customers and their total quantity of products ordered.\n",
    "WITH customer_orders AS (\n",
    "  SELECT c.customer_id, c.first_name, SUM(od.quantity) as total_quantity\n",
    "  FROM customers c JOIN order_details od ON c.customer_id = od.customer_id\n",
    "  GROUP BY c.customer_id, c.first_name\n",
    ")\n",
    "\n",
    "SELECT * FROM customer_orders WHERE total_quantity>3\n",
    "\n",
    "\n"
   ]
  },
  {
   "cell_type": "code",
   "execution_count": 0,
   "metadata": {
    "application/vnd.databricks.v1+cell": {
     "cellMetadata": {
      "byteLimit": 2048000,
      "rowLimit": 10000
     },
     "inputWidgets": {},
     "nuid": "d8e750a1-c49f-4dc0-9906-7e6465c7759b",
     "showTitle": false,
     "tableResultSettingsMap": {},
     "title": ""
    }
   },
   "outputs": [],
   "source": [
    "-- find products with their total sales revenue(price * quantity)\n",
    "WITH product_sales AS (\n",
    "  SELECT od.product_name, SUM(od.quantity * od.price_each) as total_revenue\n",
    "  FROM order_details od\n",
    "  GROUP BY od.product_name\n",
    ")\n",
    "\n",
    "SELECT * FROM product_sales WHERE total_revenue > 10000;\n"
   ]
  },
  {
   "cell_type": "code",
   "execution_count": 0,
   "metadata": {
    "application/vnd.databricks.v1+cell": {
     "cellMetadata": {
      "byteLimit": 2048000,
      "rowLimit": 10000
     },
     "inputWidgets": {},
     "nuid": "3d0a064b-dc1d-4bad-95ef-5c3ffe5f6a2b",
     "showTitle": false,
     "tableResultSettingsMap": {},
     "title": ""
    }
   },
   "outputs": [],
   "source": [
    "SELECT o.order_id, o.total_amount,\n",
    "  CASE\n",
    "    WHEN o.total_amount < 1000 THEN 'SMALL'\n",
    "    WHEN o.total_amount BETWEEN 1000 AND 5000 THEN 'MEDIUM'\n",
    "    ELSE 'LARGE'\n",
    "  END AS order_size\n",
    "FROM orders o"
   ]
  },
  {
   "cell_type": "code",
   "execution_count": 0,
   "metadata": {
    "application/vnd.databricks.v1+cell": {
     "cellMetadata": {
      "byteLimit": 2048000,
      "rowLimit": 10000
     },
     "inputWidgets": {},
     "nuid": "769e23a9-4e74-45ed-ae5c-2853d231acf6",
     "showTitle": false,
     "tableResultSettingsMap": {},
     "title": ""
    }
   },
   "outputs": [],
   "source": [
    "-- label customers as 'New' or 'Returning' based on order count\n",
    "SELECT c.first_name, COUNT(o.order_id) AS total_orders,\n",
    "  CASE\n",
    "    WHEN COUNT(o.order_id) = 1 THEN 'New'\n",
    "    WHEN COUNT(o.order_id) > 1 THEN 'Returning'\n",
    "    ELSE 'No orders'\n",
    "  END AS customer_type\n",
    "FROM customers c LEFT JOIN orders o ON c.customer_id = o.customer_id\n",
    "GROUP BY c.customer_id, c.first_name;"
   ]
  },
  {
   "cell_type": "code",
   "execution_count": 0,
   "metadata": {
    "application/vnd.databricks.v1+cell": {
     "cellMetadata": {
      "byteLimit": 2048000,
      "rowLimit": 10000
     },
     "inputWidgets": {},
     "nuid": "833da9e1-f67e-467e-a60c-45c6d76e1228",
     "showTitle": false,
     "tableResultSettingsMap": {},
     "title": ""
    }
   },
   "outputs": [],
   "source": [
    "\n",
    "SELECT UPPER(c.first_name) AS FIRST_NAME FROM customers c;\n"
   ]
  },
  {
   "cell_type": "code",
   "execution_count": 0,
   "metadata": {
    "application/vnd.databricks.v1+cell": {
     "cellMetadata": {
      "byteLimit": 2048000,
      "rowLimit": 10000
     },
     "inputWidgets": {},
     "nuid": "4a579f20-0dfb-487a-a3f2-522e9836310c",
     "showTitle": false,
     "tableResultSettingsMap": {},
     "title": ""
    }
   },
   "outputs": [],
   "source": [
    "SELECT LOWER(c.first_name) AS FIRST_NAME FROM customers c;"
   ]
  },
  {
   "cell_type": "code",
   "execution_count": 0,
   "metadata": {
    "application/vnd.databricks.v1+cell": {
     "cellMetadata": {
      "byteLimit": 2048000,
      "rowLimit": 10000
     },
     "inputWidgets": {},
     "nuid": "bc08bb9d-c472-4816-b75e-69cb92481ce5",
     "showTitle": false,
     "tableResultSettingsMap": {},
     "title": ""
    }
   },
   "outputs": [],
   "source": [
    "SELECT CONCAT(c.first_name,' ', c.last_name) AS FULL_NAME FROM customers c;"
   ]
  },
  {
   "cell_type": "code",
   "execution_count": 0,
   "metadata": {
    "application/vnd.databricks.v1+cell": {
     "cellMetadata": {
      "byteLimit": 2048000,
      "rowLimit": 10000
     },
     "inputWidgets": {},
     "nuid": "609f03e8-b5ac-431c-ac28-e1358dd5e487",
     "showTitle": false,
     "tableResultSettingsMap": {},
     "title": ""
    }
   },
   "outputs": [],
   "source": [
    "-- extract month of each order and group orders by month\n",
    "SELECT MONTH(o.order_date) AS order_month, COUNT(o.order_id) AS total_orders\n",
    "FROM orders o\n",
    "GROUP BY MONTH(o.order_date)\n",
    "ORDER BY order_month;"
   ]
  },
  {
   "cell_type": "code",
   "execution_count": 0,
   "metadata": {
    "application/vnd.databricks.v1+cell": {
     "cellMetadata": {
      "byteLimit": 2048000,
      "rowLimit": 10000
     },
     "inputWidgets": {},
     "nuid": "d31232c4-a47c-4712-8756-8599cb5fe19d",
     "showTitle": false,
     "tableResultSettingsMap": {},
     "title": ""
    }
   },
   "outputs": [],
   "source": [
    "-- list each customer's name + their total spent and spending category\n",
    "WITH customer_spending AS (\n",
    "  SELECT c.customer_id, CONCAT(c.first_name, ' ', c.last_name) AS customer_name, \n",
    "  SUM(od.quantity * od.price_each) AS total_spent\n",
    "  FROM customers c JOIN order_details od ON c.customer_id = od.customer_id\n",
    "  GROUP BY c.customer_id, customer_name\n",
    ")\n",
    "\n",
    "SELECT customer_name, total_spent,\n",
    "  CASE\n",
    "    WHEN total_spent < 10000 THEN 'Bronze'\n",
    "    WHEN total_spent BETWEEN 10000 AND 20000 THEN 'Silver'\n",
    "    ELSE 'Gold'\n",
    "  END AS customer_tier\n",
    "  FROM customer_spending;"
   ]
  },
  {
   "cell_type": "code",
   "execution_count": 0,
   "metadata": {
    "application/vnd.databricks.v1+cell": {
     "cellMetadata": {
      "byteLimit": 2048000,
      "rowLimit": 10000
     },
     "inputWidgets": {},
     "nuid": "6fed9e22-2038-41e2-8f35-9f218bd77377",
     "showTitle": false,
     "tableResultSettingsMap": {},
     "title": ""
    }
   },
   "outputs": [],
   "source": [
    "-- Step 1: Create the table\n",
    "CREATE TABLE sales_data (\n",
    "    sale_id INT PRIMARY KEY,\n",
    "    customer_id VARCHAR(10),\n",
    "    product VARCHAR(50),\n",
    "    amount INT,\n",
    "    sale_date DATE,\n",
    "    region VARCHAR(20)\n",
    ");\n",
    "\n",
    "-- Step 2: Insert the data\n",
    "INSERT INTO sales_data (sale_id, customer_id, product, amount, sale_date, region)\n",
    "VALUES \n",
    "(101, 'C001', 'Shoes', 2999, '2023-10-01', 'North'),\n",
    "(102, 'C002', 'T-Shirt', 999, '2023-10-01', 'West'),\n",
    "(103, 'C001', 'Watch', 5999, '2023-10-02', 'North'),\n",
    "(104, 'C003', 'Bag', 1999, '2023-10-03', 'South');\n"
   ]
  },
  {
   "cell_type": "code",
   "execution_count": 0,
   "metadata": {
    "application/vnd.databricks.v1+cell": {
     "cellMetadata": {
      "byteLimit": 2048000,
      "rowLimit": 10000
     },
     "inputWidgets": {},
     "nuid": "d41d9707-2a82-4846-bfb3-bf8c4a3e6421",
     "showTitle": false,
     "tableResultSettingsMap": {},
     "title": ""
    }
   },
   "outputs": [],
   "source": [
    "-- Step 1: Create the table\n",
    "CREATE TABLE customers_new (\n",
    "    customer_id VARCHAR(10) PRIMARY KEY,\n",
    "    customer_name VARCHAR(50),\n",
    "    gender CHAR(1),\n",
    "    city VARCHAR(50)\n",
    ");\n",
    "\n",
    "-- Step 2: Insert the data\n",
    "INSERT INTO customers_new (customer_id, customer_name, gender, city)\n",
    "VALUES \n",
    "('C001', 'Ravi', 'M', 'Mumbai'),\n",
    "('C002', 'Priya', 'F', 'Delhi'),\n",
    "('C003', 'Arjun', 'M', 'Bangalore');\n"
   ]
  },
  {
   "cell_type": "code",
   "execution_count": 0,
   "metadata": {
    "application/vnd.databricks.v1+cell": {
     "cellMetadata": {
      "byteLimit": 2048000,
      "rowLimit": 10000
     },
     "inputWidgets": {},
     "nuid": "b6267b1b-4bdd-42d9-83ad-71fc9d696199",
     "showTitle": false,
     "tableResultSettingsMap": {},
     "title": ""
    }
   },
   "outputs": [],
   "source": [
    "select * from sales_data;"
   ]
  },
  {
   "cell_type": "code",
   "execution_count": 0,
   "metadata": {
    "application/vnd.databricks.v1+cell": {
     "cellMetadata": {
      "byteLimit": 2048000,
      "rowLimit": 10000
     },
     "inputWidgets": {},
     "nuid": "130deea1-d87d-4aa5-8d71-6224e3e16735",
     "showTitle": false,
     "tableResultSettingsMap": {},
     "title": ""
    }
   },
   "outputs": [],
   "source": [
    "select * from customers_new;"
   ]
  },
  {
   "cell_type": "code",
   "execution_count": 0,
   "metadata": {
    "application/vnd.databricks.v1+cell": {
     "cellMetadata": {
      "byteLimit": 2048000,
      "rowLimit": 10000
     },
     "inputWidgets": {},
     "nuid": "ff11c3b7-e236-4d70-bd93-5b03d62b02f1",
     "showTitle": false,
     "tableResultSettingsMap": {},
     "title": ""
    }
   },
   "outputs": [],
   "source": [
    "-- join query to show customer name, product and region\n",
    "SELECT c.customer_id, c.customer_name, s.product, s.region\n",
    "FROM sales_data s JOIN customers_new c ON s.customer_id = c.customer_id;"
   ]
  },
  {
   "cell_type": "code",
   "execution_count": 0,
   "metadata": {
    "application/vnd.databricks.v1+cell": {
     "cellMetadata": {
      "byteLimit": 2048000,
      "rowLimit": 10000
     },
     "inputWidgets": {},
     "nuid": "9df42111-329e-4b2b-95d2-6bdbb6ae1511",
     "showTitle": false,
     "tableResultSettingsMap": {},
     "title": ""
    }
   },
   "outputs": [],
   "source": [
    "-- count how many products each customer purchased\n",
    "SELECT c.customer_id, c.customer_name, COUNT(DISTINCT s.product) AS num_products\n",
    "FROM customers_new c JOIN sales_data s ON c.customer_id = s.customer_id GROUP BY c.customer_id, c.customer_name;\n"
   ]
  },
  {
   "cell_type": "code",
   "execution_count": 0,
   "metadata": {
    "application/vnd.databricks.v1+cell": {
     "cellMetadata": {
      "byteLimit": 2048000,
      "rowLimit": 10000
     },
     "inputWidgets": {},
     "nuid": "71182d68-4a5f-46ec-980b-31abfe801090",
     "showTitle": false,
     "tableResultSettingsMap": {},
     "title": ""
    }
   },
   "outputs": [],
   "source": [
    "-- get all the female customers who made a purchase greater than 1000\n",
    "SELECT c.customer_id, c.customer_name\n",
    "FROM customers_new c JOIN sales_data s ON c.customer_id = s.customer_id\n",
    "WHERE c.gender = 'F' AND s.amount > 1000;"
   ]
  },
  {
   "cell_type": "code",
   "execution_count": 0,
   "metadata": {
    "application/vnd.databricks.v1+cell": {
     "cellMetadata": {
      "byteLimit": 2048000,
      "rowLimit": 10000
     },
     "inputWidgets": {},
     "nuid": "d0831f81-772b-4b7a-8c1b-01ababb992cd",
     "showTitle": false,
     "tableResultSettingsMap": {},
     "title": ""
    }
   },
   "outputs": [],
   "source": [
    "-- identify cities with total purchase amount\n",
    "SELECT city, SUM(amount) AS total_purchase\n",
    "FROM customers_new c JOIN sales_data s ON c.customer_id = s.customer_id\n",
    "GROUP BY city ORDER BY total_purchase DESC;"
   ]
  },
  {
   "cell_type": "code",
   "execution_count": 0,
   "metadata": {
    "application/vnd.databricks.v1+cell": {
     "cellMetadata": {},
     "inputWidgets": {},
     "nuid": "0a68204e-50b3-4ccf-b68b-349aabb87f8e",
     "showTitle": false,
     "tableResultSettingsMap": {},
     "title": ""
    }
   },
   "outputs": [],
   "source": []
  }
 ],
 "metadata": {
  "application/vnd.databricks.v1+notebook": {
   "computePreferences": null,
   "dashboards": [],
   "environmentMetadata": {
    "base_environment": "",
    "environment_version": "2"
   },
   "inputWidgetPreferences": null,
   "language": "sql",
   "notebookMetadata": {
    "pythonIndentUnit": 4
   },
   "notebookName": "Class 4",
   "widgets": {}
  },
  "language_info": {
   "name": "sql"
  }
 },
 "nbformat": 4,
 "nbformat_minor": 0
}

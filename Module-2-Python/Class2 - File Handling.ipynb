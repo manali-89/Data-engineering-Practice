{
 "cells": [
  {
   "cell_type": "code",
   "execution_count": 0,
   "metadata": {
    "application/vnd.databricks.v1+cell": {
     "cellMetadata": {
      "byteLimit": 2048000,
      "rowLimit": 10000
     },
     "inputWidgets": {},
     "nuid": "8c537ac6-c859-4d16-a21d-4da6151b1940",
     "showTitle": false,
     "tableResultSettingsMap": {},
     "title": ""
    }
   },
   "outputs": [],
   "source": [
    "#basic read the csv file\n",
    "import csv\n",
    "\n",
    "with open('global_food_wastage_dataset.csv', mode='r') as file:\n",
    "    reader = csv.reader(file)\n",
    "    for row in reader:\n",
    "        print(row)"
   ]
  },
  {
   "cell_type": "code",
   "execution_count": 0,
   "metadata": {
    "application/vnd.databricks.v1+cell": {
     "cellMetadata": {
      "byteLimit": 2048000,
      "rowLimit": 10000
     },
     "inputWidgets": {},
     "nuid": "d58ce733-e707-4ac2-94b6-7f42092d6a55",
     "showTitle": false,
     "tableResultSettingsMap": {},
     "title": ""
    }
   },
   "outputs": [],
   "source": [
    "#basic read the csv file\n",
    "import csv\n",
    "\n",
    "with open('global_food_wastage_dataset.csv', mode='r') as file:\n",
    "    reader = csv.reader(file)\n",
    "    #skip the header\n",
    "    next(reader)\n",
    "    for row in reader:\n",
    "        print(row)"
   ]
  },
  {
   "cell_type": "code",
   "execution_count": 0,
   "metadata": {
    "application/vnd.databricks.v1+cell": {
     "cellMetadata": {
      "byteLimit": 2048000,
      "rowLimit": 10000
     },
     "inputWidgets": {},
     "nuid": "6e91e593-8871-480d-b655-c810aec934ee",
     "showTitle": false,
     "tableResultSettingsMap": {},
     "title": ""
    }
   },
   "outputs": [],
   "source": [
    "#only use some part of file\n",
    "with open('global_food_wastage_dataset.csv', mode='r') as file:\n",
    "    reader = csv.DictReader(file)\n",
    "\n",
    "    for row in reader:\n",
    "        print(row['Country'])"
   ]
  },
  {
   "cell_type": "markdown",
   "metadata": {
    "application/vnd.databricks.v1+cell": {
     "cellMetadata": {},
     "inputWidgets": {},
     "nuid": "9e83f382-580d-42bb-b1d3-b641827f459a",
     "showTitle": false,
     "tableResultSettingsMap": {},
     "title": ""
    }
   },
   "source": [
    "Writing to a csv"
   ]
  },
  {
   "cell_type": "code",
   "execution_count": 0,
   "metadata": {
    "application/vnd.databricks.v1+cell": {
     "cellMetadata": {
      "byteLimit": 2048000,
      "rowLimit": 10000
     },
     "inputWidgets": {},
     "nuid": "a2105b9f-63bf-4ef7-a336-72cd023ee50f",
     "showTitle": false,
     "tableResultSettingsMap": {},
     "title": ""
    }
   },
   "outputs": [],
   "source": [
    "#create a output file\n",
    "\n",
    "with open('output.csv', mode=\"w\", newline=\"\") as file:\n",
    "    writer = csv.writer(file)\n",
    "    writer.writerow([\"Name\", \"Age\"])\n",
    "    writer.writerow([\"John\", 25])\n",
    "    writer.writerow([\"Jane\", 30])\n",
    "#read the output file\n",
    "with open('output.csv', mode='r') as file:\n",
    "    reader = csv.reader(file)\n",
    "    for row in reader:\n",
    "        print(row)"
   ]
  },
  {
   "cell_type": "code",
   "execution_count": 0,
   "metadata": {
    "application/vnd.databricks.v1+cell": {
     "cellMetadata": {
      "byteLimit": 2048000,
      "rowLimit": 10000
     },
     "inputWidgets": {},
     "nuid": "0560b7ca-4940-4659-81f1-49d07f74d862",
     "showTitle": false,
     "tableResultSettingsMap": {},
     "title": ""
    }
   },
   "outputs": [],
   "source": [
    "# read line by line logging file\n",
    "\n",
    "with open('log.txt', mode='r') as file:\n",
    "    count=0\n",
    "    for line in file:\n",
    "        if \"error\" in line.lower():\n",
    "            print(f\"⚠️Alert at line {count}: {line.strip()}\")\n",
    "        count+=1\n",
    "        "
   ]
  },
  {
   "cell_type": "code",
   "execution_count": 0,
   "metadata": {
    "application/vnd.databricks.v1+cell": {
     "cellMetadata": {
      "byteLimit": 2048000,
      "rowLimit": 10000
     },
     "inputWidgets": {},
     "nuid": "34361f32-e5c4-4431-a918-afce4819af57",
     "showTitle": false,
     "tableResultSettingsMap": {},
     "title": ""
    }
   },
   "outputs": [],
   "source": [
    "#fetching data from api\n",
    "import requests\n",
    "\n",
    "url = \"https://imdb236.p.rapidapi.com/api/imdb/search\"\n",
    "\n",
    "querystring = {\"type\":\"movie\",\"genre\":\"Drama\",\"rows\":\"25\",\"sortOrder\":\"ASC\",\"sortField\":\"id\"}\n",
    "\n",
    "headers = {\n",
    "\t\"x-rapidapi-key\": \"7eea107f71msh379e60867042026p13c6bajsnf562056d1404\",\n",
    "\t\"x-rapidapi-host\": \"imdb236.p.rapidapi.com\"\n",
    "}\n",
    "\n",
    "response = requests.get(url, headers=headers, params=querystring)\n",
    "\n",
    "print(response.json())"
   ]
  },
  {
   "cell_type": "markdown",
   "metadata": {
    "application/vnd.databricks.v1+cell": {
     "cellMetadata": {},
     "inputWidgets": {},
     "nuid": "14c23cac-2e05-4040-aa6c-a152412cf0a1",
     "showTitle": false,
     "tableResultSettingsMap": {},
     "title": ""
    }
   },
   "source": [
    "### Capstone project\n",
    "\n",
    "- Fetch users from API\n",
    "- Filter users from a specific city\n",
    "- Write to a csv"
   ]
  },
  {
   "cell_type": "code",
   "execution_count": 0,
   "metadata": {
    "application/vnd.databricks.v1+cell": {
     "cellMetadata": {
      "byteLimit": 2048000,
      "rowLimit": 10000
     },
     "inputWidgets": {},
     "nuid": "de705b86-2dd7-4d70-83f8-e2ffc185d4f8",
     "showTitle": false,
     "tableResultSettingsMap": {},
     "title": ""
    },
    "jupyter": {
     "outputs_hidden": true
    }
   },
   "outputs": [],
   "source": [
    "import requests, csv\n",
    "\n",
    "response = requests.get('https://jsonplaceholder.typicode.com/users')\n",
    "\n",
    "if response.status_code == 200:\n",
    "    users = response.json()\n",
    "    print(users)\n",
    "\n",
    "    with open('city_users.csv', 'w', newline='') as file:\n",
    "        writer = csv.writer(file)\n",
    "        writer.writerow(['Name', 'City'])\n",
    "\n",
    "        for user in users:\n",
    "            if user['address']['city'] == 'South Christy':\n",
    "                writer.writerow([user['name'], user['address']['city']])\n",
    "else:\n",
    "    print(f\"Error: {response.status_code}             \")                                                                                                                                                                                                                      "
   ]
  },
  {
   "cell_type": "code",
   "execution_count": 0,
   "metadata": {
    "application/vnd.databricks.v1+cell": {
     "cellMetadata": {
      "byteLimit": 2048000,
      "rowLimit": 10000
     },
     "inputWidgets": {},
     "nuid": "e4c35131-2c59-429a-a6a3-b32f99e99481",
     "showTitle": false,
     "tableResultSettingsMap": {},
     "title": ""
    }
   },
   "outputs": [],
   "source": [
    "print(users)"
   ]
  },
  {
   "cell_type": "code",
   "execution_count": 0,
   "metadata": {
    "application/vnd.databricks.v1+cell": {
     "cellMetadata": {},
     "inputWidgets": {},
     "nuid": "2e0a9b7e-b7a7-4c61-8714-01c7f0d27ef8",
     "showTitle": false,
     "tableResultSettingsMap": {},
     "title": ""
    }
   },
   "outputs": [],
   "source": []
  }
 ],
 "metadata": {
  "application/vnd.databricks.v1+notebook": {
   "computePreferences": null,
   "dashboards": [],
   "environmentMetadata": {
    "base_environment": "",
    "environment_version": "2"
   },
   "inputWidgetPreferences": null,
   "language": "python",
   "notebookMetadata": {
    "pythonIndentUnit": 4
   },
   "notebookName": "Class2 - File Handling",
   "widgets": {}
  },
  "language_info": {
   "name": "python"
  }
 },
 "nbformat": 4,
 "nbformat_minor": 0
}

{
 "cells": [
  {
   "cell_type": "markdown",
   "metadata": {
    "application/vnd.databricks.v1+cell": {
     "cellMetadata": {},
     "inputWidgets": {},
     "nuid": "ce535c32-ca5e-4f57-a76a-0c34165ff866",
     "showTitle": false,
     "tableResultSettingsMap": {},
     "title": ""
    }
   },
   "source": [
    "### Classes and objects (core foundation)"
   ]
  },
  {
   "cell_type": "code",
   "execution_count": 0,
   "metadata": {
    "application/vnd.databricks.v1+cell": {
     "cellMetadata": {
      "byteLimit": 2048000,
      "rowLimit": 10000
     },
     "inputWidgets": {},
     "nuid": "7748f1ae-1b60-4e0c-a26c-1c19c2d75d85",
     "showTitle": false,
     "tableResultSettingsMap": {},
     "title": ""
    }
   },
   "outputs": [],
   "source": [
    "class Customer:\n",
    "  def __init__(self, name, age):\n",
    "    self.name = name\n",
    "    self.age = age\n",
    "\n",
    "c1 = Customer(\"John\", 30)\n",
    "c2 = Customer(\"Mary\", 25)\n",
    "print(c1.name)"
   ]
  },
  {
   "cell_type": "code",
   "execution_count": 0,
   "metadata": {
    "application/vnd.databricks.v1+cell": {
     "cellMetadata": {
      "byteLimit": 2048000,
      "rowLimit": 10000
     },
     "inputWidgets": {},
     "nuid": "e317009f-62fb-4199-9e98-20eb77212003",
     "showTitle": false,
     "tableResultSettingsMap": {},
     "title": ""
    }
   },
   "outputs": [],
   "source": [
    "# build a pipeline class\n",
    "\n",
    "class PipelineStep:\n",
    "    def __init__(self, step_name):\n",
    "        self.step_name = step_name\n",
    "    def execute(self):\n",
    "        print(f\"Executing step {self.step_name}\")\n",
    "\n",
    "ingest=PipelineStep(\"Ingest\")\n",
    "transform=PipelineStep(\"Transform\")\n",
    "load=PipelineStep(\"Load\")\n",
    "\n",
    "ingest.execute()\n",
    "transform.execute()\n",
    "load.execute()"
   ]
  },
  {
   "cell_type": "markdown",
   "metadata": {
    "application/vnd.databricks.v1+cell": {
     "cellMetadata": {},
     "inputWidgets": {},
     "nuid": "a88a06dd-8469-4e50-8619-913697b8d159",
     "showTitle": false,
     "tableResultSettingsMap": {},
     "title": ""
    }
   },
   "source": [
    "### _Encapsulation_ - Protect Internal Logic"
   ]
  },
  {
   "cell_type": "code",
   "execution_count": 0,
   "metadata": {
    "application/vnd.databricks.v1+cell": {
     "cellMetadata": {
      "byteLimit": 2048000,
      "rowLimit": 10000
     },
     "inputWidgets": {},
     "nuid": "bc4e7cb4-cfa0-47b4-9002-cb3a86790c6c",
     "showTitle": false,
     "tableResultSettingsMap": {},
     "title": ""
    }
   },
   "outputs": [],
   "source": [
    "class DatasbaseConnector:\n",
    "    def __init__(self):\n",
    "        self._credentials = \"user:pass@123\"  #protected variable credentials\n",
    "    def connect(self):\n",
    "        print(f\"Connecting to database ...\")\n",
    "        return \"DB connection established\"\n",
    "    \n",
    "db=DatasbaseConnector()\n",
    "print(db.connect())\n"
   ]
  },
  {
   "cell_type": "markdown",
   "metadata": {
    "application/vnd.databricks.v1+cell": {
     "cellMetadata": {},
     "inputWidgets": {},
     "nuid": "7bbf73a6-a44f-44a6-ac80-a621b39913b3",
     "showTitle": false,
     "tableResultSettingsMap": {},
     "title": ""
    }
   },
   "source": [
    "### Inheritance - Reuse Code with Variants"
   ]
  },
  {
   "cell_type": "code",
   "execution_count": 0,
   "metadata": {
    "application/vnd.databricks.v1+cell": {
     "cellMetadata": {
      "byteLimit": 2048000,
      "rowLimit": 10000
     },
     "inputWidgets": {},
     "nuid": "d10dfbda-1a06-4504-99ed-463e06b3d41a",
     "showTitle": false,
     "tableResultSettingsMap": {},
     "title": ""
    }
   },
   "outputs": [],
   "source": [
    "class Reader:\n",
    "    def read(self):\n",
    "        return \"Reading data from base reader...\"\n",
    "\n",
    "class CSVReader(Reader):\n",
    "    def read(self):\n",
    "        return \"Reading data from CSV reader...\"\n",
    "\n",
    "class JSONReader(Reader):\n",
    "    def read(self):\n",
    "        return \"Reading data from JSON reader...\"\n",
    "\n",
    "print(CSVReader().read())\n",
    "print(JSONReader().read())\n"
   ]
  },
  {
   "cell_type": "markdown",
   "metadata": {
    "application/vnd.databricks.v1+cell": {
     "cellMetadata": {},
     "inputWidgets": {},
     "nuid": "40ac67c2-d837-482a-b4ee-b47f3e972f2e",
     "showTitle": false,
     "tableResultSettingsMap": {},
     "title": ""
    }
   },
   "source": [
    "### Polymorphism - Same interface, Different Behaviour\n"
   ]
  },
  {
   "cell_type": "code",
   "execution_count": 0,
   "metadata": {
    "application/vnd.databricks.v1+cell": {
     "cellMetadata": {
      "byteLimit": 2048000,
      "rowLimit": 10000
     },
     "inputWidgets": {},
     "nuid": "7f3f5ca0-d84e-4971-a143-eb653f44b4d2",
     "showTitle": false,
     "tableResultSettingsMap": {},
     "title": ""
    }
   },
   "outputs": [],
   "source": [
    "def run_reader(reader):\n",
    "    print(reader.read())\n",
    "run_reader(CSVReader())\n",
    "run_reader(JSONReader())"
   ]
  },
  {
   "cell_type": "markdown",
   "metadata": {
    "application/vnd.databricks.v1+cell": {
     "cellMetadata": {
      "byteLimit": 2048000,
      "rowLimit": 10000
     },
     "inputWidgets": {},
     "nuid": "4677d2b4-9f01-45b4-9930-15e1610bb330",
     "showTitle": false,
     "tableResultSettingsMap": {},
     "title": ""
    }
   },
   "source": [
    "### Abstraction - Enforce Structure Across Team"
   ]
  },
  {
   "cell_type": "code",
   "execution_count": 0,
   "metadata": {
    "application/vnd.databricks.v1+cell": {
     "cellMetadata": {
      "byteLimit": 2048000,
      "rowLimit": 10000
     },
     "inputWidgets": {},
     "nuid": "1f109677-b2bc-4bce-8372-408b19062bcf",
     "showTitle": false,
     "tableResultSettingsMap": {},
     "title": ""
    }
   },
   "outputs": [],
   "source": [
    "from abc import ABC, abstractmethod\n",
    "\n",
    "class Ingestor(ABC):\n",
    "    @abstractmethod\n",
    "    def read(self):\n",
    "        pass\n",
    "\n",
    "class CSVIngestor(Ingestor):\n",
    "    def read(self):\n",
    "        return \"Reading data from CSV ingestor...\"\n",
    "    \n",
    "def run_ingestor(ingestor):\n",
    "    print(ingestor.read())\n",
    "    \n",
    "run_ingestor(CSVIngestor())"
   ]
  },
  {
   "cell_type": "code",
   "execution_count": 0,
   "metadata": {
    "application/vnd.databricks.v1+cell": {
     "cellMetadata": {
      "byteLimit": 2048000,
      "rowLimit": 10000
     },
     "inputWidgets": {},
     "nuid": "77fcc6d3-95d6-4128-827d-1e241be843e5",
     "showTitle": false,
     "tableResultSettingsMap": {},
     "title": ""
    }
   },
   "outputs": [],
   "source": [
    "class FileIngestor:\n",
    "    def __init__(self, file_path):\n",
    "        self.file_path = file_path\n",
    "    def read(self):\n",
    "        print(f\"Reading data from file {self.file_path}...\")\n",
    "        return f\"Raw data from file {self.file_path}...\"\n",
    "    \n",
    "class Cleaner:\n",
    "    def clean(self, data):\n",
    "        print(f\"Cleaning data {data}...\")\n",
    "        return f\"Cleaned data {data}...\"\n",
    "    \n",
    "class Writer:\n",
    "    def write(self, data):\n",
    "        print(f\"Writing data: {data}...\")\n",
    "        return f\"Written data {data}...\"\n",
    "\n",
    "#Execute pipeline\n",
    "reader = FileIngestor(\"data.csv\")\n",
    "raw_data = reader.read()\n",
    "\n",
    "Cleaner = Cleaner()\n",
    "cleaned_data = Cleaner.clean(raw_data)\n",
    "\n",
    "Writer = Writer()\n",
    "Writer.write(cleaned_data)\n",
    "\n"
   ]
  },
  {
   "cell_type": "code",
   "execution_count": 0,
   "metadata": {
    "application/vnd.databricks.v1+cell": {
     "cellMetadata": {
      "byteLimit": 2048000,
      "rowLimit": 10000
     },
     "inputWidgets": {},
     "nuid": "078b6010-1002-481b-9d66-7e342f995dce",
     "showTitle": false,
     "tableResultSettingsMap": {},
     "title": ""
    }
   },
   "outputs": [],
   "source": [
    "[1,2,3]+[4,5]"
   ]
  },
  {
   "cell_type": "code",
   "execution_count": 0,
   "metadata": {
    "application/vnd.databricks.v1+cell": {
     "cellMetadata": {
      "byteLimit": 2048000,
      "rowLimit": 10000
     },
     "inputWidgets": {},
     "nuid": "4a2d8e0a-e821-4cf7-8682-be79d3065b58",
     "showTitle": false,
     "tableResultSettingsMap": {},
     "title": ""
    }
   },
   "outputs": [],
   "source": [
    "len({'a':1, 'b':2})"
   ]
  },
  {
   "cell_type": "code",
   "execution_count": 0,
   "metadata": {
    "application/vnd.databricks.v1+cell": {
     "cellMetadata": {
      "byteLimit": 2048000,
      "rowLimit": 10000
     },
     "inputWidgets": {},
     "nuid": "9e2d3559-3a1d-4cfc-9be2-4dbd72fb2f83",
     "showTitle": false,
     "tableResultSettingsMap": {},
     "title": ""
    }
   },
   "outputs": [],
   "source": [
    "'data'*2"
   ]
  },
  {
   "cell_type": "code",
   "execution_count": 0,
   "metadata": {
    "application/vnd.databricks.v1+cell": {
     "cellMetadata": {
      "byteLimit": 2048000,
      "rowLimit": 10000
     },
     "inputWidgets": {},
     "nuid": "7f7b78d3-7274-4867-9b28-6085a0c44f6e",
     "showTitle": false,
     "tableResultSettingsMap": {},
     "title": ""
    }
   },
   "outputs": [],
   "source": [
    "type([]) == list"
   ]
  },
  {
   "cell_type": "code",
   "execution_count": 0,
   "metadata": {
    "application/vnd.databricks.v1+cell": {
     "cellMetadata": {
      "byteLimit": 2048000,
      "rowLimit": 10000
     },
     "inputWidgets": {},
     "nuid": "eef81921-8fcf-49d3-b5bc-48192b4d0ac9",
     "showTitle": false,
     "tableResultSettingsMap": {},
     "title": ""
    }
   },
   "outputs": [],
   "source": [
    "type(None)"
   ]
  },
  {
   "cell_type": "code",
   "execution_count": 0,
   "metadata": {
    "application/vnd.databricks.v1+cell": {
     "cellMetadata": {
      "byteLimit": 2048000,
      "rowLimit": 10000
     },
     "inputWidgets": {},
     "nuid": "58c8e119-70b6-4405-bbae-a00e2cfa5648",
     "showTitle": false,
     "tableResultSettingsMap": {},
     "title": ""
    }
   },
   "outputs": [],
   "source": [
    "bool([])"
   ]
  },
  {
   "cell_type": "code",
   "execution_count": 0,
   "metadata": {
    "application/vnd.databricks.v1+cell": {
     "cellMetadata": {},
     "inputWidgets": {},
     "nuid": "3ec7c70c-2a4d-42b1-a9e7-35bd097834b4",
     "showTitle": false,
     "tableResultSettingsMap": {},
     "title": ""
    }
   },
   "outputs": [],
   "source": []
  }
 ],
 "metadata": {
  "application/vnd.databricks.v1+notebook": {
   "computePreferences": null,
   "dashboards": [],
   "environmentMetadata": {
    "base_environment": "",
    "environment_version": "2"
   },
   "inputWidgetPreferences": null,
   "language": "python",
   "notebookMetadata": {
    "pythonIndentUnit": 4
   },
   "notebookName": "Class4 - Classes & objects",
   "widgets": {}
  },
  "language_info": {
   "name": "python"
  }
 },
 "nbformat": 4,
 "nbformat_minor": 0
}

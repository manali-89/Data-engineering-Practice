{
 "cells": [
  {
   "cell_type": "markdown",
   "metadata": {
    "application/vnd.databricks.v1+cell": {
     "cellMetadata": {
      "byteLimit": 2048000,
      "rowLimit": 10000
     },
     "inputWidgets": {},
     "nuid": "e625bbe8-83bf-49a3-8ef9-da86e5768f86",
     "showTitle": false,
     "tableResultSettingsMap": {},
     "title": ""
    }
   },
   "source": [
    "### What is SCD?\n",
    "Slowly Changing Dimensions is a concept used in data warehousing to track and manage changes in dimension table data over time.\n",
    "\n",
    "**SCD1** : Overwrites old value with new value. No history maintained.\n",
    "\n",
    "**SCD2** : Maintains full historical records by creating new rows for changes, uses is_active, start_date, end_date"
   ]
  },
  {
   "cell_type": "markdown",
   "metadata": {
    "application/vnd.databricks.v1+cell": {
     "cellMetadata": {
      "byteLimit": 2048000,
      "rowLimit": 10000
     },
     "inputWidgets": {},
     "nuid": "935e3449-df47-46fd-8251-182ef2b90221",
     "showTitle": false,
     "tableResultSettingsMap": {},
     "title": ""
    }
   },
   "source": [
    "### Pyspark implementation in Databricks"
   ]
  },
  {
   "cell_type": "code",
   "execution_count": 0,
   "metadata": {
    "application/vnd.databricks.v1+cell": {
     "cellMetadata": {
      "byteLimit": 2048000,
      "rowLimit": 10000
     },
     "inputWidgets": {},
     "nuid": "78c77afb-0c3f-45ee-9e56-73380f901d65",
     "showTitle": false,
     "tableResultSettingsMap": {},
     "title": ""
    }
   },
   "outputs": [],
   "source": [
    "old_data = [('101', 'Manali', 'Banglore'), ('102', 'Jignesh', 'Gurugram')]\n",
    "column = ['customer_id', 'customer_name', 'city']\n",
    "old_df = spark.createDataFrame(old_data, column)\n",
    "display(old_df)"
   ]
  },
  {
   "cell_type": "code",
   "execution_count": 0,
   "metadata": {
    "application/vnd.databricks.v1+cell": {
     "cellMetadata": {
      "byteLimit": 2048000,
      "rowLimit": 10000
     },
     "inputWidgets": {},
     "nuid": "aca5581a-be3e-4e73-b935-b3079c137de6",
     "showTitle": false,
     "tableResultSettingsMap": {},
     "title": ""
    }
   },
   "outputs": [],
   "source": [
    "#new data or updates in the table\n",
    "new_data = [('101', 'Manali', 'Gurugram'), ('102', 'Jignesh', 'Gurugram'), ('103', 'Aditya', 'Mumbai')]\n",
    "\n",
    "new_df = spark.createDataFrame(new_data, column)\n",
    "display(new_df)"
   ]
  },
  {
   "cell_type": "markdown",
   "metadata": {
    "application/vnd.databricks.v1+cell": {
     "cellMetadata": {
      "byteLimit": 2048000,
      "rowLimit": 10000
     },
     "inputWidgets": {},
     "nuid": "abef00a3-e94e-420b-92fd-af9a0daa89ed",
     "showTitle": false,
     "tableResultSettingsMap": {},
     "title": ""
    }
   },
   "source": [
    "### SCD Type1: Overwrite(No history)"
   ]
  },
  {
   "cell_type": "code",
   "execution_count": 0,
   "metadata": {
    "application/vnd.databricks.v1+cell": {
     "cellMetadata": {
      "byteLimit": 2048000,
      "rowLimit": 10000
     },
     "inputWidgets": {},
     "nuid": "dcb24bef-c2dd-4903-a3f3-dbac2dcfde11",
     "showTitle": false,
     "tableResultSettingsMap": {},
     "title": ""
    }
   },
   "outputs": [],
   "source": [
    "#save old data as delta format\n",
    "from delta.tables import *\n",
    "\n",
    "old_df.write.format('delta').mode('overwrite').save('/Volumes/workspace/default/tmp/dim_customers_type1')\n",
    "\n",
    "df_customers = DeltaTable.forPath(spark, '/Volumes/workspace/default/tmp/dim_customers_type1')"
   ]
  },
  {
   "cell_type": "code",
   "execution_count": 0,
   "metadata": {
    "application/vnd.databricks.v1+cell": {
     "cellMetadata": {
      "byteLimit": 2048000,
      "rowLimit": 10000
     },
     "inputWidgets": {},
     "nuid": "fe065b49-abdb-4172-a8d6-6c536824bdfa",
     "showTitle": false,
     "tableResultSettingsMap": {},
     "title": ""
    }
   },
   "outputs": [],
   "source": [
    "# merge for type 1\n",
    "df_customers.alias('target').merge(\n",
    "    new_df.alias('source'),\n",
    "    'target.customer_id=source.customer_id'\n",
    "    ).whenMatchedUpdateAll()   \\\n",
    "    .whenNotMatchedInsertAll()  \\\n",
    "    .execute()"
   ]
  },
  {
   "cell_type": "code",
   "execution_count": 0,
   "metadata": {
    "application/vnd.databricks.v1+cell": {
     "cellMetadata": {
      "byteLimit": 2048000,
      "rowLimit": 10000
     },
     "inputWidgets": {},
     "nuid": "09af22dd-fb6b-47e2-b803-0f81d6daca92",
     "showTitle": false,
     "tableResultSettingsMap": {},
     "title": ""
    }
   },
   "outputs": [],
   "source": [
    "display(spark.read.format(\"delta\").load(\"/Volumes/workspace/default/tmp/dim_customers_type1\"))"
   ]
  },
  {
   "cell_type": "markdown",
   "metadata": {
    "application/vnd.databricks.v1+cell": {
     "cellMetadata": {
      "byteLimit": 2048000,
      "rowLimit": 10000
     },
     "inputWidgets": {},
     "nuid": "ffccea9b-e4de-429f-9042-e9b08e8f8be7",
     "showTitle": false,
     "tableResultSettingsMap": {},
     "title": ""
    }
   },
   "source": [
    "### SCD Type2 : Keep History"
   ]
  },
  {
   "cell_type": "code",
   "execution_count": 0,
   "metadata": {
    "application/vnd.databricks.v1+cell": {
     "cellMetadata": {
      "byteLimit": 2048000,
      "rowLimit": 10000
     },
     "inputWidgets": {},
     "nuid": "ebb96ee1-459e-4883-b4c8-8b464459973f",
     "showTitle": false,
     "tableResultSettingsMap": {},
     "title": ""
    }
   },
   "outputs": [],
   "source": [
    "# add audit fields to new\n",
    "\n",
    "from pyspark.sql.functions import lit, current_date\n",
    "\n",
    "df_old_scd2 = old_df.withColumn('is_Active', lit(True)) \\\n",
    "               .withColumn('start_date', current_date()) \\\n",
    "               .withColumn('end_date', lit(None).cast('Date'))\n"
   ]
  },
  {
   "cell_type": "code",
   "execution_count": 0,
   "metadata": {
    "application/vnd.databricks.v1+cell": {
     "cellMetadata": {
      "byteLimit": 2048000,
      "rowLimit": 10000
     },
     "inputWidgets": {},
     "nuid": "48f66d6b-867a-45cc-99ed-1f2cf6dee126",
     "showTitle": false,
     "tableResultSettingsMap": {},
     "title": ""
    }
   },
   "outputs": [],
   "source": [
    "df_new_scd2 = new_df.withColumn('is_Active', lit(True)) \\\n",
    "               .withColumn('start_date', current_date()) \\\n",
    "               .withColumn('end_date', lit(None).cast('Date'))"
   ]
  },
  {
   "cell_type": "code",
   "execution_count": 0,
   "metadata": {
    "application/vnd.databricks.v1+cell": {
     "cellMetadata": {
      "byteLimit": 2048000,
      "rowLimit": 10000
     },
     "inputWidgets": {},
     "nuid": "1c9a5528-4152-4f3b-a87c-6711cb33a573",
     "showTitle": false,
     "tableResultSettingsMap": {},
     "title": ""
    }
   },
   "outputs": [],
   "source": [
    "display(df_new_scd2)"
   ]
  },
  {
   "cell_type": "code",
   "execution_count": 0,
   "metadata": {
    "application/vnd.databricks.v1+cell": {
     "cellMetadata": {
      "byteLimit": 2048000,
      "rowLimit": 10000
     },
     "inputWidgets": {},
     "nuid": "2545f537-ff9c-4286-aa3d-cb2a8908d071",
     "showTitle": false,
     "tableResultSettingsMap": {},
     "title": ""
    }
   },
   "outputs": [],
   "source": [
    "df_expired = df_old_scd2.alias('old').join(df_new_scd2.alias('new'), 'customer_id') \\\n",
    "    .filter(\"old.city != new.city\") \\\n",
    "    .select(\"old.customer_id\", \"old.name\", \"old.city\") \\\n",
    "    .withColumn(\"is_active\", lit(False)) \\\n",
    "    .withColumn(\"start_date\", lit(\"2024-01-01\").cast(\"date\")) \\\n",
    "    .withColumn(\"end_date\", current_date())\n",
    "\n"
   ]
  },
  {
   "cell_type": "code",
   "execution_count": 0,
   "metadata": {
    "application/vnd.databricks.v1+cell": {
     "cellMetadata": {
      "byteLimit": 2048000,
      "rowLimit": 10000
     },
     "inputWidgets": {},
     "nuid": "0ad94602-8276-451f-b03c-2d8241ea2902",
     "showTitle": false,
     "tableResultSettingsMap": {},
     "title": ""
    }
   },
   "outputs": [],
   "source": [
    "# unchanged records\n",
    "df_unchanged = df_old_scd2.alias('old').join(df_new_scd2.alias('new'), 'customer_id') \\\n",
    "    .filter(\"old.city = new.city\") \n",
    "\n",
    "display(df_unchanged)\n"
   ]
  },
  {
   "cell_type": "code",
   "execution_count": 0,
   "metadata": {
    "application/vnd.databricks.v1+cell": {
     "cellMetadata": {
      "byteLimit": 2048000,
      "rowLimit": 10000
     },
     "inputWidgets": {},
     "nuid": "c79946f4-d838-4875-8296-43ee081c3365",
     "showTitle": false,
     "tableResultSettingsMap": {},
     "title": ""
    }
   },
   "outputs": [],
   "source": [
    "# df new record entry\n",
    "df_new_only = new_df.alias('new').join(old_df.alias('old'), 'customer_id', 'leftanti') \\\n",
    "    .withColumn('is_Active', lit(True)) \\\n",
    "    .withColumn('start_date', current_date()) \\\n",
    "    .withColumn('end_date', lit(None).cast('Date'))\n",
    "\n",
    "display(df_new_only)\n"
   ]
  },
  {
   "cell_type": "code",
   "execution_count": 0,
   "metadata": {
    "application/vnd.databricks.v1+cell": {
     "cellMetadata": {
      "byteLimit": 2048000,
      "rowLimit": 10000
     },
     "inputWidgets": {},
     "nuid": "fe29aa9f-2cf8-4083-8b4d-fa0acf9c5c66",
     "showTitle": false,
     "tableResultSettingsMap": {},
     "title": ""
    }
   },
   "outputs": [],
   "source": [
    "# show whole df with new data as well\n",
    "final_df = df_new_only.union(df_new_scd2)\n",
    "display(final_df)"
   ]
  },
  {
   "cell_type": "markdown",
   "metadata": {
    "application/vnd.databricks.v1+cell": {
     "cellMetadata": {},
     "inputWidgets": {},
     "nuid": "5dab5715-a4c0-45f0-a1d1-f0be1eb670e6",
     "showTitle": false,
     "tableResultSettingsMap": {},
     "title": ""
    }
   },
   "source": [
    "### Databricks SQL Impelementation"
   ]
  },
  {
   "cell_type": "code",
   "execution_count": 0,
   "metadata": {
    "application/vnd.databricks.v1+cell": {
     "cellMetadata": {
      "byteLimit": 2048000,
      "implicitDf": true,
      "rowLimit": 10000
     },
     "inputWidgets": {},
     "nuid": "962b2321-a103-4538-a490-f5690621922d",
     "showTitle": false,
     "tableResultSettingsMap": {},
     "title": ""
    }
   },
   "outputs": [],
   "source": [
    "%sql\n",
    "CREATE OR REPLACE TABLE dim_customers\n",
    "(customer_id INT,\n",
    "name STRING,\n",
    "city STRING) USING DELTA;\n",
    "\n",
    "INSERT INTO dim_customers VALUES (1, 'John Doe', 'New York');\n",
    "INSERT INTO dim_customers VALUES (2, 'Jane Smith', 'Los Angeles');\n",
    "INSERT INTO dim_customers VALUES (3, 'Mike Johnson', 'Chicago');\n",
    "INSERT INTO dim_customers VALUES (4, 'Emily Davis', 'Houston');\n",
    "INSERT INTO dim_customers VALUES (5, 'Daniel Brown', 'Phoenix');\n",
    "INSERT INTO dim_customers VALUES (6, 'Olivia Wilson', 'Philadelphia');\n",
    "INSERT INTO dim_customers VALUES (7, 'Sophia Taylor', 'San Antonio');"
   ]
  },
  {
   "cell_type": "code",
   "execution_count": 0,
   "metadata": {
    "application/vnd.databricks.v1+cell": {
     "cellMetadata": {
      "byteLimit": 2048000,
      "implicitDf": true,
      "rowLimit": 10000
     },
     "inputWidgets": {},
     "nuid": "30ef2fc0-89f4-48af-aaaf-d77d23db1753",
     "showTitle": false,
     "tableResultSettingsMap": {},
     "title": ""
    }
   },
   "outputs": [],
   "source": [
    "%sql\n",
    "SELECT * FROM dim_customers;"
   ]
  },
  {
   "cell_type": "code",
   "execution_count": 0,
   "metadata": {
    "application/vnd.databricks.v1+cell": {
     "cellMetadata": {
      "byteLimit": 2048000,
      "implicitDf": true,
      "rowLimit": 10000
     },
     "inputWidgets": {},
     "nuid": "52aa0fdf-0f1b-4502-9e62-22d201197fb1",
     "showTitle": false,
     "tableResultSettingsMap": {},
     "title": ""
    }
   },
   "outputs": [],
   "source": [
    "%sql\n",
    "-- Step2 - create staging view\n",
    "CREATE OR REPLACE VIEW staging_view AS SELECT * FROM VALUES (1, 'John Doe', 'New York'), (2, 'Jane Smith', 'Los Angeles'), (3, 'Mike Johnson', 'Chicago'), (4, 'Emily Davis', 'Houston'), (5, 'Daniel Brown', 'Phoenix'), (6, 'Olivia Wilson', 'New Jersy'), (7, 'Sophia Taylor', 'San Antonio'), (8, 'Emma Anderson', 'Dallas'), (9, 'Ava Martinez', 'San Diego'), (10, 'Isabella Garcia', 'Austin') AS t(customer_id, name, city);\n"
   ]
  },
  {
   "cell_type": "code",
   "execution_count": 0,
   "metadata": {
    "application/vnd.databricks.v1+cell": {
     "cellMetadata": {
      "byteLimit": 2048000,
      "implicitDf": true,
      "rowLimit": 10000
     },
     "inputWidgets": {},
     "nuid": "b8d8fcf0-c171-4dc6-a560-776231b80105",
     "showTitle": false,
     "tableResultSettingsMap": {},
     "title": ""
    }
   },
   "outputs": [],
   "source": [
    "%sql\n",
    "SELECT * FROM staging_view"
   ]
  },
  {
   "cell_type": "markdown",
   "metadata": {
    "application/vnd.databricks.v1+cell": {
     "cellMetadata": {},
     "inputWidgets": {},
     "nuid": "d877ac72-0d45-459a-adde-24fc5951e0f2",
     "showTitle": false,
     "tableResultSettingsMap": {},
     "title": ""
    }
   },
   "source": [
    "#### SCD Type 1"
   ]
  },
  {
   "cell_type": "code",
   "execution_count": 0,
   "metadata": {
    "application/vnd.databricks.v1+cell": {
     "cellMetadata": {
      "byteLimit": 2048000,
      "implicitDf": true,
      "rowLimit": 10000
     },
     "inputWidgets": {},
     "nuid": "7633fac6-1940-47d8-a9cf-797793052694",
     "showTitle": false,
     "tableResultSettingsMap": {},
     "title": ""
    }
   },
   "outputs": [],
   "source": [
    "%sql\n",
    "MERGE INTO dim_customers AS target\n",
    "USING staging_view AS source\n",
    "ON target.customer_id = source.customer_id\n",
    "WHEN MATCHED THEN UPDATE SET *\n",
    "WHEN NOT MATCHED THEN INSERT *;\n",
    "    \n",
    "SELECT * FROM dim_customers"
   ]
  },
  {
   "cell_type": "markdown",
   "metadata": {
    "application/vnd.databricks.v1+cell": {
     "cellMetadata": {},
     "inputWidgets": {},
     "nuid": "ee7e79a1-f227-4043-9b22-c5d6d0289ffe",
     "showTitle": false,
     "tableResultSettingsMap": {},
     "title": ""
    }
   },
   "source": [
    "#### SCD Type 2"
   ]
  },
  {
   "cell_type": "code",
   "execution_count": 0,
   "metadata": {
    "application/vnd.databricks.v1+cell": {
     "cellMetadata": {
      "byteLimit": 2048000,
      "implicitDf": true,
      "rowLimit": 10000
     },
     "inputWidgets": {},
     "nuid": "b71a75b5-6f35-4cec-81e5-b239926a4fff",
     "showTitle": false,
     "tableResultSettingsMap": {},
     "title": ""
    }
   },
   "outputs": [],
   "source": [
    "%sql\n",
    "CREATE OR REPLACE TABLE dim_customers\n",
    "(customer_id INT,\n",
    "name STRING,\n",
    "city STRING,\n",
    "is_active BOOLEAN,\n",
    "start_date DATE,\n",
    "end_date DATE) USING DELTA;"
   ]
  },
  {
   "cell_type": "code",
   "execution_count": 0,
   "metadata": {
    "application/vnd.databricks.v1+cell": {
     "cellMetadata": {
      "byteLimit": 2048000,
      "implicitDf": true,
      "rowLimit": 10000
     },
     "inputWidgets": {},
     "nuid": "30b49633-34c4-41dc-9ba7-a6385aa00c5d",
     "showTitle": false,
     "tableResultSettingsMap": {},
     "title": ""
    }
   },
   "outputs": [],
   "source": [
    "%sql\n",
    "INSERT INTO dim_customers VALUES (1, 'John Doe', 'New York', true, '2022-01-01', NULL);\n",
    "INSERT INTO dim_customers VALUES (2, 'Jane Smith', 'Los Angeles', true, '2022-01-01', NULL);\n",
    "INSERT INTO dim_customers VALUES (3, 'Mike Johnson', 'New Jersy', true, '2022-01-01', NULL);\n",
    "INSERT INTO dim_customers VALUES (4, 'Emily Davis', 'Houston', true, '2022-01-01', NULL);\n",
    "INSERT INTO dim_customers VALUES (5, 'Daniel Brown', 'Phoenix', true, '2022-01-01', NULL);\n",
    "\n"
   ]
  },
  {
   "cell_type": "code",
   "execution_count": 0,
   "metadata": {
    "application/vnd.databricks.v1+cell": {
     "cellMetadata": {
      "byteLimit": 2048000,
      "implicitDf": true,
      "rowLimit": 10000
     },
     "inputWidgets": {},
     "nuid": "2452c4ba-0187-4a23-b22d-8d6a1cb4c285",
     "showTitle": false,
     "tableResultSettingsMap": {},
     "title": ""
    }
   },
   "outputs": [],
   "source": [
    "%sql\n",
    "--Step2 Expire old\n",
    "UPDATE dim_customers SET is_active = false, end_date = current_date() \n",
    "WHERE customer_id IN(\n",
    "  SELECT d.customer_id \n",
    "  FROM staging_view s JOIN dim_customers d \n",
    "  ON s.customer_id = d.customer_id \n",
    "  WHERE s.city != d.city AND d.is_active = true\n",
    "  );"
   ]
  },
  {
   "cell_type": "code",
   "execution_count": 0,
   "metadata": {
    "application/vnd.databricks.v1+cell": {
     "cellMetadata": {
      "byteLimit": 2048000,
      "implicitDf": true,
      "rowLimit": 10000
     },
     "inputWidgets": {},
     "nuid": "6bed9515-1f1a-40b0-b9ba-4cf20493c4c9",
     "showTitle": false,
     "tableResultSettingsMap": {},
     "title": ""
    }
   },
   "outputs": [],
   "source": [
    "%sql\n",
    "SELECT * FROM dim_customers\n",
    "    "
   ]
  },
  {
   "cell_type": "code",
   "execution_count": 0,
   "metadata": {
    "application/vnd.databricks.v1+cell": {
     "cellMetadata": {
      "byteLimit": 2048000,
      "implicitDf": true,
      "rowLimit": 10000
     },
     "inputWidgets": {},
     "nuid": "c81d7b19-309e-4d6d-b48f-d7ad04e240a8",
     "showTitle": false,
     "tableResultSettingsMap": {},
     "title": ""
    }
   },
   "outputs": [],
   "source": [
    "%sql\n",
    "-- step3- insert new\n",
    "INSERT INTO dim_customers \n",
    "SELECT s.customer_id, s.name, s.city, true, current_date(), NULL \n",
    "FROM staging_view s LEFT JOIN dim_customers d \n",
    "ON s.customer_id = d.customer_id AND d.is_active = true \n",
    "WHERE d.city IS NULL OR s.city != d.city;\n",
    "    \n",
    "SELECT * FROM dim_customers"
   ]
  },
  {
   "cell_type": "code",
   "execution_count": 0,
   "metadata": {
    "application/vnd.databricks.v1+cell": {
     "cellMetadata": {},
     "inputWidgets": {},
     "nuid": "7b097da9-59a2-4467-84cb-f18d1af46d71",
     "showTitle": false,
     "tableResultSettingsMap": {},
     "title": ""
    }
   },
   "outputs": [],
   "source": []
  }
 ],
 "metadata": {
  "application/vnd.databricks.v1+notebook": {
   "computePreferences": null,
   "dashboards": [],
   "environmentMetadata": {
    "base_environment": "",
    "environment_version": "2"
   },
   "inputWidgetPreferences": null,
   "language": "python",
   "notebookMetadata": {
    "mostRecentlyExecutedCommandWithImplicitDF": {
     "commandId": 6423016874222061,
     "dataframes": [
      "_sqldf"
     ]
    },
    "pythonIndentUnit": 4
   },
   "notebookName": "Extension Class",
   "widgets": {}
  },
  "language_info": {
   "name": "python"
  }
 },
 "nbformat": 4,
 "nbformat_minor": 0
}

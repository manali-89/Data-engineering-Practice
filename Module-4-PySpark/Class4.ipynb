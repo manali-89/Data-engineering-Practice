{
 "cells": [
  {
   "cell_type": "markdown",
   "metadata": {
    "application/vnd.databricks.v1+cell": {
     "cellMetadata": {},
     "inputWidgets": {},
     "nuid": "3a688ac5-0ee8-4490-aa5e-277e57384036",
     "showTitle": false,
     "tableResultSettingsMap": {},
     "title": ""
    }
   },
   "source": [
    "What is Delta Lake?\n",
    "\n",
    "Key Concepts to Teach:\n",
    "\n",
    "- Built on top of Parquet\n",
    "- Supports ACID, schema enforcement, versioning\n",
    "- Works best on Databricks and supports MERGE, UPDATE, DELETE"
   ]
  },
  {
   "cell_type": "code",
   "execution_count": 0,
   "metadata": {
    "application/vnd.databricks.v1+cell": {
     "cellMetadata": {
      "byteLimit": 2048000,
      "rowLimit": 10000
     },
     "inputWidgets": {},
     "nuid": "dcd7dffb-afce-4f37-b10b-c08255836814",
     "showTitle": false,
     "tableResultSettingsMap": {},
     "title": ""
    }
   },
   "outputs": [],
   "source": [
    "from pyspark.sql import SparkSession\n",
    "spark = SparkSession.builder.appName('Spark DataFrames').getOrCreate()"
   ]
  },
  {
   "cell_type": "code",
   "execution_count": 0,
   "metadata": {
    "application/vnd.databricks.v1+cell": {
     "cellMetadata": {
      "byteLimit": 2048000,
      "rowLimit": 10000
     },
     "inputWidgets": {},
     "nuid": "8c265ac8-4bb2-4a7a-9ac1-be8adeb36fda",
     "showTitle": false,
     "tableResultSettingsMap": {},
     "title": ""
    }
   },
   "outputs": [],
   "source": [
    "\n",
    "data = [(\"101\", \"Alice\", \"2023-11-01\", 1000), (\"102\", \"Bob\", \"2023-11-01\", 2000)]\n",
    "cols = [\"order_id\", \"customer\", \"order_date\", \"amount\"]\n",
    "\n",
    "df = spark.createDataFrame(data, cols)\n",
    "display(df)"
   ]
  },
  {
   "cell_type": "code",
   "execution_count": 0,
   "metadata": {
    "application/vnd.databricks.v1+cell": {
     "cellMetadata": {
      "byteLimit": 2048000,
      "implicitDf": true,
      "rowLimit": 10000
     },
     "inputWidgets": {},
     "nuid": "c8b99b4b-2a01-4a8f-8d7e-b665366f55c6",
     "showTitle": false,
     "tableResultSettingsMap": {},
     "title": ""
    }
   },
   "outputs": [],
   "source": [
    "%sql\n",
    "CREATE VOLUME workspace.default.tmp\n",
    "COMMENT 'This is my example managed volume';"
   ]
  },
  {
   "cell_type": "code",
   "execution_count": 0,
   "metadata": {
    "application/vnd.databricks.v1+cell": {
     "cellMetadata": {
      "byteLimit": 2048000,
      "rowLimit": 10000
     },
     "inputWidgets": {},
     "nuid": "a7c2623f-a465-4998-b93a-3a8527c2b7c0",
     "showTitle": false,
     "tableResultSettingsMap": {},
     "title": ""
    }
   },
   "outputs": [],
   "source": [
    "dbutils.fs.mkdirs(\"/Volumes/workspace/default/tmp\")"
   ]
  },
  {
   "cell_type": "code",
   "execution_count": 0,
   "metadata": {
    "application/vnd.databricks.v1+cell": {
     "cellMetadata": {
      "byteLimit": 2048000,
      "rowLimit": 10000
     },
     "inputWidgets": {},
     "nuid": "055d970c-ff56-45ba-84f6-11c7e35ff535",
     "showTitle": false,
     "tableResultSettingsMap": {},
     "title": ""
    }
   },
   "outputs": [],
   "source": [
    "df.write.format('delta').mode('overwrite').save('/Volumes/workspace/default/tmp/bronze_sales')"
   ]
  },
  {
   "cell_type": "code",
   "execution_count": 0,
   "metadata": {
    "application/vnd.databricks.v1+cell": {
     "cellMetadata": {
      "byteLimit": 2048000,
      "rowLimit": 10000
     },
     "inputWidgets": {},
     "nuid": "c256a1d4-8a68-48da-98b3-fa1129595998",
     "showTitle": false,
     "tableResultSettingsMap": {},
     "title": ""
    }
   },
   "outputs": [],
   "source": [
    "display(dbutils.fs.ls(\"/Volumes/workspace/default/tmp/bronze_sales/_delta_log\"))\n"
   ]
  },
  {
   "cell_type": "code",
   "execution_count": 0,
   "metadata": {
    "application/vnd.databricks.v1+cell": {
     "cellMetadata": {
      "byteLimit": 2048000,
      "rowLimit": 10000
     },
     "inputWidgets": {},
     "nuid": "1585d166-e940-4ec5-b4da-ed164517fcd5",
     "showTitle": false,
     "tableResultSettingsMap": {},
     "title": ""
    }
   },
   "outputs": [],
   "source": [
    "dbutils.fs.head('/Volumes/workspace/default/tmp/bronze_sales/_delta_log/00000000000000000000.json')"
   ]
  },
  {
   "cell_type": "markdown",
   "metadata": {
    "application/vnd.databricks.v1+cell": {
     "cellMetadata": {},
     "inputWidgets": {},
     "nuid": "d8141f0e-3d83-49dd-8d98-f59965524f4c",
     "showTitle": false,
     "tableResultSettingsMap": {},
     "title": ""
    }
   },
   "source": [
    "### Layers in Architecture (Medallion):\n",
    "- Bronze ➝ Raw data\n",
    "- Silver ➝ Cleaned + enriched data\n",
    "- Gold ➝ Aggregated insights\n",
    "\n",
    "#### Build Medallion Architecture (Practical)\n",
    "\n",
    "🔶 Bronze – Ingest Raw CSV"
   ]
  },
  {
   "cell_type": "code",
   "execution_count": 0,
   "metadata": {
    "application/vnd.databricks.v1+cell": {
     "cellMetadata": {
      "byteLimit": 2048000,
      "rowLimit": 10000
     },
     "inputWidgets": {},
     "nuid": "58466ad7-2f1a-45de-ac5a-d9f5b557cbb8",
     "showTitle": false,
     "tableResultSettingsMap": {},
     "title": ""
    }
   },
   "outputs": [],
   "source": [
    "#bronze layer - Ingest from RAW CSV \n",
    "\n",
    "df_raw = spark.read.option(\"header\", True).csv(\"/databricks-datasets/retail-org/customers/\")\n",
    "df_raw.write.format(\"delta\").mode(\"overwrite\").save(\"/Volumes/workspace/default/tmp/lakehouse/bronze/customers\")\n",
    "display(df_raw)"
   ]
  },
  {
   "cell_type": "markdown",
   "metadata": {
    "application/vnd.databricks.v1+cell": {
     "cellMetadata": {},
     "inputWidgets": {},
     "nuid": "3d6f7849-0454-4c35-853c-f8bd6d429ac6",
     "showTitle": false,
     "tableResultSettingsMap": {},
     "title": ""
    }
   },
   "source": [
    "🔷 Silver - Clean and Standard"
   ]
  },
  {
   "cell_type": "code",
   "execution_count": 0,
   "metadata": {
    "application/vnd.databricks.v1+cell": {
     "cellMetadata": {
      "byteLimit": 2048000,
      "rowLimit": 10000
     },
     "inputWidgets": {},
     "nuid": "f2311528-4751-4dda-9437-6dd7404e3e59",
     "showTitle": false,
     "tableResultSettingsMap": {},
     "title": ""
    }
   },
   "outputs": [],
   "source": [
    "# Silver - Clean and Standard \n",
    "df_bronze = spark.read.format(\"delta\").load(\"/Volumes/workspace/default/tmp/lakehouse/bronze/customers\")\n",
    "\n",
    "# Display the schema to check the column names\n",
    "df_bronze.printSchema()\n",
    "\n",
    "from pyspark.sql.functions import col, lower, trim\n",
    "\n",
    "# Assuming the correct column name is 'customer_email' instead of 'email'\n",
    "df_silver = df_bronze.withColumn(\"customer_name\", lower(trim(col(\"customer_name\")))) \\\n",
    "                     .dropna(subset=[\"customer_id\", \"customer_name\"])\n",
    "\n",
    "df_silver.write.format(\"delta\").mode(\"overwrite\").save(\"/Volumes/workspace/default/tmp/lakehouse/silver/customers\")\n",
    "\n",
    "display(df_silver)"
   ]
  },
  {
   "cell_type": "markdown",
   "metadata": {
    "application/vnd.databricks.v1+cell": {
     "cellMetadata": {},
     "inputWidgets": {},
     "nuid": "4cdfd3d8-4d4a-47d4-bd42-c664131446d0",
     "showTitle": false,
     "tableResultSettingsMap": {},
     "title": ""
    }
   },
   "source": [
    "🟡 Gold – Aggregated Insights"
   ]
  },
  {
   "cell_type": "code",
   "execution_count": 0,
   "metadata": {
    "application/vnd.databricks.v1+cell": {
     "cellMetadata": {
      "byteLimit": 2048000,
      "rowLimit": 10000
     },
     "inputWidgets": {},
     "nuid": "3da67d47-309a-468f-9a65-f43bace450b4",
     "showTitle": false,
     "tableResultSettingsMap": {},
     "title": ""
    }
   },
   "outputs": [],
   "source": [
    "df_silver = spark.read.format(\"delta\").load(\"/Volumes/workspace/default/tmp/lakehouse/silver/customers\")\n",
    "\n",
    "df_gold = df_silver.groupBy(\"state\").count()\n",
    "df_gold.write.format(\"delta\").mode(\"overwrite\").saveAsTable(\"customer_summary\")"
   ]
  },
  {
   "cell_type": "code",
   "execution_count": 0,
   "metadata": {
    "application/vnd.databricks.v1+cell": {
     "cellMetadata": {
      "byteLimit": 2048000,
      "implicitDf": true,
      "rowLimit": 10000
     },
     "inputWidgets": {},
     "nuid": "2e8a2d5a-0ace-4d50-929d-ae58004bf80b",
     "showTitle": false,
     "tableResultSettingsMap": {},
     "title": ""
    }
   },
   "outputs": [],
   "source": [
    "%sql\n",
    "select * from customer_summary "
   ]
  },
  {
   "cell_type": "code",
   "execution_count": 0,
   "metadata": {
    "application/vnd.databricks.v1+cell": {
     "cellMetadata": {
      "byteLimit": 2048000,
      "implicitDf": true,
      "rowLimit": 10000
     },
     "inputWidgets": {},
     "nuid": "1388dbdf-5d9f-49fe-8ebc-e90a865fe73f",
     "showTitle": false,
     "tableResultSettingsMap": {},
     "title": ""
    }
   },
   "outputs": [],
   "source": [
    "%sql\n",
    "describe history customer_summary"
   ]
  },
  {
   "cell_type": "code",
   "execution_count": 0,
   "metadata": {
    "application/vnd.databricks.v1+cell": {
     "cellMetadata": {},
     "inputWidgets": {},
     "nuid": "d393a03a-0c60-47e2-84db-d55fe6fad165",
     "showTitle": false,
     "tableResultSettingsMap": {},
     "title": ""
    }
   },
   "outputs": [],
   "source": []
  }
 ],
 "metadata": {
  "application/vnd.databricks.v1+notebook": {
   "computePreferences": null,
   "dashboards": [],
   "environmentMetadata": {
    "base_environment": "",
    "environment_version": "2"
   },
   "inputWidgetPreferences": null,
   "language": "python",
   "notebookMetadata": {
    "mostRecentlyExecutedCommandWithImplicitDF": {
     "commandId": 5483965798711570,
     "dataframes": [
      "_sqldf"
     ]
    },
    "pythonIndentUnit": 4
   },
   "notebookName": "Class4",
   "widgets": {}
  },
  "language_info": {
   "name": "python"
  }
 },
 "nbformat": 4,
 "nbformat_minor": 0
}
